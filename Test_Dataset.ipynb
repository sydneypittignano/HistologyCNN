{
 "cells": [
  {
   "cell_type": "code",
   "execution_count": 11,
   "id": "1e6f5d64",
   "metadata": {},
   "outputs": [],
   "source": [
    "import py_wsi\n",
    "import py_wsi.imagepy_toolkit as tk"
   ]
  },
  {
   "cell_type": "code",
   "execution_count": 12,
   "id": "1a419ecf",
   "metadata": {},
   "outputs": [],
   "source": [
    "file_dir = \"/Users/spittignano/Desktop/COS398/Test_Histology_Slides/\"\n",
    "db_location = \"/Users/spittignano/Desktop/COS398/test_patches_13/\" # make sure to create this locally before\n",
    "xml_dir = file_dir\n",
    "patch_size = 256\n",
    "level = 13\n",
    "db_name = \"patch_db\"\n",
    "overlap = 12\n",
    "\n",
    "# All possible labels mapped to integer ids in order of increasing severity.\n",
    "label_map = {'Normal': 0,\n",
    "             'Tumor': 1,\n",
    "            }"
   ]
  },
  {
   "cell_type": "code",
   "execution_count": 13,
   "id": "362b8b65",
   "metadata": {},
   "outputs": [
    {
     "name": "stdout",
     "output_type": "stream",
     "text": [
      "======================================================\n",
      "Storage type:               disk\n",
      "Images directory:           /Users/spittignano/Desktop/COS398/Test_Histology_Slides/\n",
      "Data store directory:       /Users/spittignano/Desktop/COS398/test_patches_13/\n",
      "Images found:               50\n",
      "======================================================\n"
     ]
    }
   ],
   "source": [
    "turtle = py_wsi.Turtle(file_dir, db_location, db_name, xml_dir=xml_dir, label_map=label_map, storage_type='disk')"
   ]
  },
  {
   "cell_type": "code",
   "execution_count": 14,
   "id": "7306e660",
   "metadata": {},
   "outputs": [
    {
     "name": "stdout",
     "output_type": "stream",
     "text": [
      "C3L-01277-22.svs C3L-01284-21.svs C3L-03143-21.svs C3L-01277-21.svs C3L-01284-22.svs C3L-01639-26.svs C3L-01284-23.svs C3L-01284-26.svs C3L-01064-21.svs C3L-03143-26.svs C3L-02448-21.svs C3L-00563-26.svs C3N-00743-23.svs C3N-00743-22.svs C3L-01633-26.svs C3N-00753-27.svs C3L-00898-26.svs C3L-01631-23.svs C3L-01355-22.svs C3N-00753-30.svs C3L-00898-21.svs C3N-00743-24.svs C3L-00563-21.svs C3L-01355-26.svs C3L-02448-26.svs C3L-00563-23.svs C3L-01633-22.svs C3L-00563-22.svs C3L-01631-26.svs C3L-05571-23.svs C3N-00753-29.svs C3L-05571-26.svs C3N-00753-28.svs C3L-05571-25.svs C3L-01274-21.svs C3N-00200-26.svs C3L-00086-21.svs C3N-00200-27.svs C3L-05849-22.svs C3L-01599-22.svs C3L-02449-21.svs C3L-01604-26.svs C3L-05849-23.svs C3L-01599-26.svs C3L-00086-26.svs C3N-00200-21.svs C3L-01604-23.svs C3L-05849-24.svs C3N-00200-23.svs C3L-02449-26.svs \n",
      "============ Patches Dataset Stats ===========\n",
      "Total patches sampled:                     21345\n",
      "Patches saved to:                          /Users/spittignano/Desktop/COS398/test_patches_13/\n",
      "Patches saved with prefix:                 patch_db\n",
      "\n",
      "Time usage: 0:22:14\n"
     ]
    }
   ],
   "source": [
    "turtle.sample_and_store_patches(patch_size, level, overlap, load_xml=False, limit_bounds=True)"
   ]
  },
  {
   "cell_type": "code",
   "execution_count": 17,
   "id": "845e3325",
   "metadata": {},
   "outputs": [],
   "source": [
    "import os\n",
    "from PIL import Image\n",
    "import numpy as np\n",
    "import shutil\n",
    "db_location_test = \"/Users/spittignano/Desktop/COS398/test_patches_filtered_13_6/\"\n",
    "deleted_location = \"/Users/spittignano/Desktop/COS398/test_patches_deleted_13_6/\"\n",
    "total_pixels = 256*256\n",
    "\n",
    "for file in os.listdir(db_location_test):\n",
    "    if not file.endswith('.png'):\n",
    "        continue\n",
    "    white_pixels = 0;\n",
    "    im = Image.open(db_location_test + file)\n",
    "    \n",
    "    # cast to numpy array\n",
    "    arr = np.array(im)\n",
    "    \n",
    "    # min the array across the 3 channels np.min(axis)\n",
    "    arr = np.min(arr, axis=2)\n",
    "    \n",
    "    # filter\n",
    "    filter_ = arr > 200\n",
    "    white_pixels = len(arr[filter_])\n",
    "    \n",
    "    if (white_pixels / total_pixels > 0.6):\n",
    "        src_path = db_location_test + file\n",
    "        dst_path = deleted_location + file\n",
    "        shutil.move(src_path, dst_path)"
   ]
  }
 ],
 "metadata": {
  "kernelspec": {
   "display_name": "Python 3 (ipykernel)",
   "language": "python",
   "name": "python3"
  },
  "language_info": {
   "codemirror_mode": {
    "name": "ipython",
    "version": 3
   },
   "file_extension": ".py",
   "mimetype": "text/x-python",
   "name": "python",
   "nbconvert_exporter": "python",
   "pygments_lexer": "ipython3",
   "version": "3.9.13"
  }
 },
 "nbformat": 4,
 "nbformat_minor": 5
}
