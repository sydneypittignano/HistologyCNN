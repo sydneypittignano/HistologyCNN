{
 "cells": [
  {
   "cell_type": "code",
   "execution_count": 54,
   "id": "9bb5eb6c",
   "metadata": {},
   "outputs": [],
   "source": [
    "import py_wsi\n",
    "import py_wsi.imagepy_toolkit as tk"
   ]
  },
  {
   "cell_type": "code",
   "execution_count": 55,
   "id": "5ae202f6",
   "metadata": {},
   "outputs": [],
   "source": [
    "file_dir = \"/Users/spittignano/Desktop/COS398/Train_Histology_Slides/\"\n",
    "db_location = \"/Users/spittignano/Desktop/COS398/train_patches/\" # make sure to create this locally before\n",
    "xml_dir = file_dir\n",
    "patch_size = 256\n",
    "level = 13\n",
    "db_name = \"patch_db\"\n",
    "overlap = 12\n",
    "\n",
    "# All possible labels mapped to integer ids in order of increasing severity.\n",
    "label_map = {'Normal': 0,\n",
    "             'Tumor': 1,\n",
    "            }"
   ]
  },
  {
   "cell_type": "code",
   "execution_count": 56,
   "id": "65e474f9",
   "metadata": {},
   "outputs": [
    {
     "name": "stdout",
     "output_type": "stream",
     "text": [
      "======================================================\n",
      "Storage type:               disk\n",
      "Images directory:           /Users/spittignano/Desktop/COS398/Train_Histology_Slides/\n",
      "Data store directory:       /Users/spittignano/Desktop/COS398/train_patches/\n",
      "Images found:               200\n",
      "======================================================\n"
     ]
    }
   ],
   "source": [
    "turtle = py_wsi.Turtle(file_dir, db_location, db_name, xml_dir=xml_dir, label_map=label_map, storage_type='disk')"
   ]
  },
  {
   "cell_type": "code",
   "execution_count": 57,
   "id": "296314b8",
   "metadata": {},
   "outputs": [
    {
     "name": "stdout",
     "output_type": "stream",
     "text": [
      "C3L-00605-26.svs C3L-00137-26.svs C3L-03264-21.svs C3L-01967-24.svs C3L-00947-22.svs C3L-00156-22.svs C3L-01729-21.svs C3L-00586-23.svs C3L-01253-22.svs C3L-00139-22.svs C3L-01304-26.svs C3N-00321-23.svs C3L-00963-22.svs C3L-02409-21.svs C3L-02741-22.svs C3L-00361-26.svs C3L-00947-21.svs C3L-01729-22.svs C3L-02468-25.svs C3L-01253-21.svs C3L-00963-21.svs C3N-00151-27.svs C3L-00938-21.svs C3L-01275-21.svs C3L-00949-21.svs C3L-01967-23.svs C3L-00961-21.svs C3L-01744-22.svs C3L-01739-22.svs C3L-00605-21.svs C3L-00361-22.svs C3N-00151-22.svs C3L-00938-22.svs C3L-02409-27.svs C3L-02119-28.svs C3L-02741-24.svs C3L-00139-26.svs C3L-02468-22.svs C3L-03264-24.svs C3L-01275-22.svs C3L-00156-26.svs C3L-00949-22.svs C3L-00961-22.svs C3L-01744-21.svs C3L-01739-21.svs C3L-00586-26.svs C3N-00321-26.svs C3L-01304-23.svs C3L-00361-21.svs C3L-03589-24.svs C3L-00770-21.svs C3L-02389-22.svs C3L-02747-23.svs C3L-02602-26.svs C3L-02747-22.svs C3L-01312-21.svs C3L-02403-21.svs C3L-00161-28.svs C3L-02382-28.svs C3L-00449-21.svs C3L-00770-22.svs C3L-02389-21.svs C3L-00781-24.svs C3L-01668-21.svs C3L-05848-21.svs C3L-00601-23.svs C3L-02403-22.svs C3L-01664-21.svs C3L-01282-21.svs C3N-00155-24.svs C3L-01249-22.svs C3L-01312-26.svs C3L-01257-22.svs C3L-02411-27.svs C3L-00943-22.svs C3L-05848-24.svs C3L-00601-26.svs C3L-00932-22.svs C3L-01664-26.svs C3L-01282-26.svs C3L-03589-21.svs C3L-01249-21.svs C3L-02411-25.svs C3L-01668-26.svs C3L-01257-21.svs C3L-02602-23.svs C3L-00943-21.svs C3L-00932-21.svs C3L-00449-26.svs C3N-00155-26.svs C3L-01252-21.svs C3L-00090-26.svs C3L-00362-22.svs C3L-00962-21.svs C3L-00356-26.svs C3L-00769-21.svs C3L-00145-21.svs C3L-00358-22.svs C3L-02347-21.svs C3L-00946-21.svs C3L-01307-23.svs C3L-01252-22.svs C3L-02990-22.svs C3L-00157-22.svs C3L-01840-21.svs C3L-02357-26.svs C3L-00962-22.svs C3L-00769-22.svs C3L-00136-26.svs C3L-01864-21.svs C3L-02802-25.svs C3L-00946-22.svs C3L-02392-21.svs C3L-01307-26.svs C3L-01833-21.svs C3L-02802-21.svs C3L-02357-23.svs C3L-00781-28.svs C3L-00767-22.svs C3L-02347-26.svs C3L-01749-21.svs C3L-00145-26.svs C3L-03152-22.svs C3L-00136-23.svs C3L-02408-27.svs C3L-00157-26.svs C3L-00090-21.svs C3L-02392-22.svs C3L-00161-25.svs C3L-01833-22.svs C3L-01864-26.svs C3L-02408-25.svs C3L-00358-26.svs C3L-00767-21.svs C3L-01749-22.svs C3L-03152-21.svs C3L-00356-22.svs C3L-00362-26.svs C3L-01840-26.svs C3L-02382-26.svs C3L-02990-25.svs C3L-02555-26.svs C3L-02953-21.svs C3L-00780-25.svs C3L-02746-21.svs C3L-02412-27.svs C3L-02216-26.svs C3L-00098-21.svs C3L-01913-21.svs C3L-02744-25.svs C3L-02384-21.svs C3L-02557-22.svs C3L-01311-26.svs C3L-03467-21.svs C3L-00143-22.svs C3L-00921-26.svs C3L-02545-22.svs C3L-00006-26.svs C3L-00771-22.svs C3L-01246-22.svs C3L-00008-21.svs C3L-02353-21.svs C3L-02384-22.svs C3L-00413-26.svs C3L-00032-21.svs C3L-02121-22.svs C3L-03594-21.svs C3L-00780-27.svs C3L-00771-21.svs C3L-01246-21.svs C3L-00006-21.svs C3L-00942-21.svs C3L-02412-21.svs C3L-01311-21.svs C3L-01913-26.svs C3L-00098-26.svs C3L-02121-27.svs C3L-01256-21.svs C3L-03594-24.svs C3L-01732-22.svs C3L-02953-26.svs C3L-02119-23.svs C3L-01248-21.svs C3L-02555-23.svs C3L-00942-22.svs C3L-02545-26.svs C3L-00143-26.svs C3L-00032-26.svs C3L-02557-26.svs C3L-00413-21.svs C3L-02744-21.svs C3L-02353-26.svs C3L-03467-24.svs C3L-02216-22.svs C3L-00921-23.svs C3L-01732-21.svs C3L-01256-22.svs C3L-00008-26.svs C3L-02746-25.svs C3L-01248-22.svs \n",
      "============ Patches Dataset Stats ===========\n",
      "Total patches sampled:                     97552\n",
      "Patches saved to:                          /Users/spittignano/Desktop/COS398/train_patches/\n",
      "Patches saved with prefix:                 patch_db\n",
      "\n",
      "Time usage: 5:52:31\n"
     ]
    }
   ],
   "source": [
    "turtle.sample_and_store_patches(patch_size, level, overlap, load_xml=False, limit_bounds=True)"
   ]
  },
  {
   "cell_type": "code",
   "execution_count": 61,
   "id": "ff51678f",
   "metadata": {},
   "outputs": [],
   "source": [
    "import os\n",
    "from PIL import Image\n",
    "import numpy as np\n",
    "import shutil\n",
    "db_location_test = \"/Users/spittignano/Desktop/COS398/train_patches_filtered/\"\n",
    "deleted_location = \"/Users/spittignano/Desktop/COS398/train_patches_deleted/\"\n",
    "total_pixels = 256*256\n",
    "\n",
    "for file in os.listdir(db_location_test):\n",
    "    if not file.endswith('.png'):\n",
    "        continue\n",
    "    white_pixels = 0;\n",
    "    im = Image.open(db_location_test + file)\n",
    "    \n",
    "    # cast to numpy array\n",
    "    arr = np.array(im)\n",
    "    \n",
    "    # min the array across the 3 channels np.min(axis)\n",
    "    arr = np.min(arr, axis=2)\n",
    "    \n",
    "    # filter\n",
    "    filter_ = arr > 200\n",
    "    white_pixels = len(arr[filter_])\n",
    "    \n",
    "    if (white_pixels / total_pixels > 0.6):\n",
    "        src_path = db_location_test + file\n",
    "        dst_path = deleted_location + file\n",
    "        shutil.move(src_path, dst_path)"
   ]
  }
 ],
 "metadata": {
  "kernelspec": {
   "display_name": "Python 3 (ipykernel)",
   "language": "python",
   "name": "python3"
  },
  "language_info": {
   "codemirror_mode": {
    "name": "ipython",
    "version": 3
   },
   "file_extension": ".py",
   "mimetype": "text/x-python",
   "name": "python",
   "nbconvert_exporter": "python",
   "pygments_lexer": "ipython3",
   "version": "3.9.13"
  }
 },
 "nbformat": 4,
 "nbformat_minor": 5
}
